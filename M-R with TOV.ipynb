{
 "cells": [
  {
   "cell_type": "markdown",
   "id": "207b2eb2-bbb2-4ba2-aa48-bfe3de7878b8",
   "metadata": {},
   "source": [
    "# Application in General Relativity: M-R solving TOV equations for spherical stars \n",
    "\n",
    "by Argyro Sasli @28/05/2022"
   ]
  },
  {
   "cell_type": "code",
   "execution_count": 1,
   "id": "c9bdf1e5-7075-4852-8c6e-25dd4cb53ac8",
   "metadata": {},
   "outputs": [],
   "source": [
    "#load\n",
    "import numpy as np  \n",
    "import math\n",
    "from scipy.integrate import odeint\n",
    "from matplotlib import pyplot as plt\n",
    "from IPython.display import display, Math, Latex\n",
    "##warnings odeint()\n",
    "import sys\n",
    "import warnings\n",
    "if not sys.warnoptions:\n",
    "    warnings.simplefilter(\"ignore\")"
   ]
  },
  {
   "cell_type": "markdown",
   "id": "e19a06b1-ce17-42d6-9819-87169da0b933",
   "metadata": {},
   "source": [
    "**The Tolman-Oppenheimer-Volkoff system** in units $c=G=1$ is\n",
    "$$ P = P(\\epsilon),$$\n",
    "\n",
    "\n",
    "$$ \\frac{dP}{dr} = -\\frac{(\\epsilon+P)(m+4\\pi r^3P)}{r(r-2m)},$$\n",
    "\n",
    "\n",
    "$$ \\frac{dm}{dr} = 4\\pi r^2 \\epsilon$$\n",
    "\n",
    "m reminds us the Newtonian mass.\n",
    "\n",
    "$$ \\frac{d\\nu}{dr} = -\\frac{2}{\\epsilon+P}\\frac{dP}{dr}=\\frac{2(m+4\\pi r^3P)}{r(r-2m)},$$\n",
    "\n",
    "which looks like the expression for the Newtonian potential with some additional terms that look like corrections to the gravitational mass and the radial distance. In fact at the weak field limit, the Newtonian potential is $\\Phi=\\nu/2$. \n",
    "\n",
    "\n",
    "$$ \\lambda = -\\ln\\left(1-\\frac{2m}{r}\\right),$$\n",
    " \n",
    "\n",
    "### Initial Condintions\n",
    "We now have the full system of equations, which we can close with the choice of an EoS $ P = P(\\epsilon)$. The system is supplemented by a set of initial conditions at the center of the star,\n",
    "\n",
    "$$ P(0) = P_c,$$\n",
    "or\n",
    "$$ \\epsilon(0) = \\epsilon_c,$$\n",
    "$$ m(0) = 0,$$\n",
    "$$ \\nu(0) = -1.$$\n",
    "\n",
    "where the last choice is arbitrary (after the interior solution is obtained, $\\nu$ will be shifted to match the Schwarzschild exterior solution at the surface).\n",
    "\n",
    "Near the center, a series expansion gives for the behaviour of the various quantities,\n",
    "\n",
    "$$P(r) \\simeq P_c -(2\\pi)(\\epsilon_c+P_c) \\left( P_c+\\frac{1}{3}\\epsilon_c \\right) r^2 + O(r^4),$$\n",
    "$$ m(r) \\simeq \\frac{4}{3}\\pi\\epsilon_c r^3 + O(r^4),$$\n",
    "$$ \\nu(r) \\simeq \\nu_c + 4\\pi \\left(P_c+ \\frac{1}{3}\\epsilon_c \\right)r^2 + O(r^4).$$\n",
    "\n",
    "On the other hand, the value of $\\nu$ at the surface is \n",
    "\n",
    "$$ \\nu_\\star = -\\lambda_\\star = \\ln\\left(1-\\frac{2M}{R}\\right).$$\n",
    "\n",
    "Furthermore, the gravitational mass can be obtained as \n",
    "\n",
    "$$ M = \\int_0^R 4\\pi r^2\\epsilon dr,$$\n",
    "or as\n",
    "$$ M = \\int_0^R 4\\pi r^2 e^{(\\nu+\\lambda)/2}(\\epsilon +3P)dr,$$\n",
    "\n",
    "while the baryon mass of the star is\n",
    "\n",
    "$$ M_0 = \\int_0^R 4\\pi r^2 e^{\\lambda/2}\\rho dr. $$\n",
    "\n",
    "## Polytropic Equation\n",
    "The polytropic equation of state is\n",
    "$$P = K\\rho^\\Gamma,$$\n",
    "Integrating the first law of thermodynamics for barotropic fluids\n",
    "$$ d\\frac{\\epsilon}{\\rho} = - P d\\frac{1}{\\rho}$$\n",
    "yields \n",
    "$$ \\epsilon = \\rho + \\frac{P}{\\Gamma-1}$$"
   ]
  },
  {
   "cell_type": "code",
   "execution_count": 2,
   "id": "977b7ea8-61ac-4c47-b465-70749e2a8205",
   "metadata": {},
   "outputs": [],
   "source": [
    "#Tolmann-Oppenheimer-Volkhoff equations\n",
    "def TOV(y, r,Gamma,K):\n",
    "    m = y[0] # mass\n",
    "    P = y[1] # pressure\n",
    "    \n",
    "    #P=Krho^\\Gamma\n",
    "    #ene=rho+P/(\\Gamma-1)\n",
    "    ene = (P/K)**(1./Gamma) + P/(Gamma-1.)\n",
    "    \n",
    "    #dm,dP\n",
    "    return (4*np.pi*ene*r**2, \\\n",
    "           -(ene+P)*(m + 4*np.pi*r**3*P)/(r*(r-2*m)))\n",
    "\n",
    "#numerical solution of TOV\n",
    "def TOVsol(rmax,Pc,K,Gamma):\n",
    "    r= np.linspace(0,rmax,1001)\n",
    "    dr=r[1]-r[0]\n",
    "    enec = (Pc/K)**(1./Gamma) + Pc/(Gamma-1.)\n",
    "    m=[0,4./3.*np.pi*enec*dr**3]\n",
    "    P=[Pc,Pc-2.0*np.pi*(enec+Pc)*(Pc+enec/3)*dr**2.0]\n",
    "    \n",
    "    r_eq=[r[0],r[1]]\n",
    "    \n",
    "    j=2\n",
    "    y1=[m[-1],P[-1]]\n",
    "    \n",
    "    while y1[1]>=0 and j<len(r):\n",
    "        r1=r[j-1:j+1]\n",
    "        sol = odeint(TOV, y1, r1, args=(Gamma, K))\n",
    "        y1=(sol[1,0],sol[1,1])\n",
    "        m.append(y1[0])\n",
    "        P.append(y1[1])\n",
    "        r_eq.append(r1[-1])\n",
    "\n",
    "        j=j+1\n",
    "        \n",
    "    M=m[-2]\n",
    "    R=r_eq[-2]\n",
    "        \n",
    "    return [M,R]"
   ]
  },
  {
   "cell_type": "code",
   "execution_count": 8,
   "id": "69ef48c5-c4b2-486c-b07d-aacd5169e15b",
   "metadata": {},
   "outputs": [],
   "source": [
    "#Mass-Radius for different central pressure Pc\n",
    "#EoS of non-relativistic polytrope (solution of TOV)\n",
    "K = pow(3.0*np.pi**2.0,5.0/3.0)/(15.0*np.pi**2.0)\n",
    "Gamma=5/3\n",
    "rmax=100\n",
    "\n",
    "X = np.logspace(math.log10(0.01), math.log10(10), 100) # This defines the range of \n",
    "                                                      # central pressure to use.\n",
    "\n",
    "Pc=(X*np.sqrt(1+X**2.0)*(-1+2.0/3*X**2.0)\\\n",
    "            +np.log(X+np.sqrt(1+X**2.0)))\\\n",
    "            /(8.0*np.pi**2.0)\n",
    "\n",
    "M=[]\n",
    "R=[]\n",
    "for i in range(0,len(Pc)):\n",
    "    sol=TOVsol(rmax,Pc[i],K,Gamma)\n",
    "    M.append(sol[0])\n",
    "    R.append(sol[1])\n",
    "    rmax=max([R[-1], 3])"
   ]
  },
  {
   "cell_type": "code",
   "execution_count": 9,
   "id": "1d0b3895-9572-4813-8801-17f8a4f3aa6c",
   "metadata": {},
   "outputs": [
    {
     "data": {
      "text/plain": [
       "Text(0.5, 0.98, 'Mass Curve for n=1.5 polytropic EoS')"
      ]
     },
     "execution_count": 9,
     "metadata": {},
     "output_type": "execute_result"
    },
    {
     "data": {
      "image/png": "[encoded data removed]",
      "text/plain": [
       "<Figure size 630x450 with 1 Axes>"
      ]
     },
     "metadata": {
      "needs_background": "light"
     },
     "output_type": "display_data"
    }
   ],
   "source": [
    "plt.figure(figsize=(7, 5), dpi=90)\n",
    "plt.plot(R,M,'b')\n",
    "plt.xlabel('Radius',fontsize=10)\n",
    "plt.ylabel('Mass',fontsize=10)\n",
    "plt.suptitle('Mass Curve for n=1.5 polytropic EoS', fontsize=18)"
   ]
  }
 ],
 "metadata": {
  "kernelspec": {
   "display_name": "igwn-py39",
   "language": "python",
   "name": "igwn-py39"
  },
  "language_info": {
   "codemirror_mode": {
    "name": "ipython",
    "version": 3
   },
   "file_extension": ".py",
   "mimetype": "text/x-python",
   "name": "python",
   "nbconvert_exporter": "python",
   "pygments_lexer": "ipython3",
   "version": "3.9.10"
  }
 },
 "nbformat": 4,
 "nbformat_minor": 5
}
